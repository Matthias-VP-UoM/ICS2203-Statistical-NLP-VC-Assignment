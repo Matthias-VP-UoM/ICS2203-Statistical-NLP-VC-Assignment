{
 "cells": [
  {
   "cell_type": "markdown",
   "id": "5723f9dd-812f-45fa-8f9e-ed5782f20a4c",
   "metadata": {},
   "source": [
    "# Importing libraries required for classifier"
   ]
  },
  {
   "cell_type": "code",
   "execution_count": 1,
   "id": "744ea76d-b035-4a08-bb8d-fc37ae1d536a",
   "metadata": {},
   "outputs": [],
   "source": [
    "from sklearn.metrics import confusion_matrix, f1_score, ConfusionMatrixDisplay\n",
    "from sklearn.datasets import load_iris\n",
    "from sklearn.model_selection import train_test_split\n",
    "from sklearn.neighbors import KNeighborsClassifier\n",
    "from sklearn.pipeline import Pipeline\n",
    "from sklearn.preprocessing import StandardScaler\n",
    "from sklearn.inspection import DecisionBoundaryDisplay\n",
    "import numpy as np\n",
    "import pandas as pd\n",
    "import matplotlib.pyplot as plt\n",
    "%matplotlib inline"
   ]
  },
  {
   "cell_type": "markdown",
   "id": "8939e1cd-255e-4a44-9022-007716494d59",
   "metadata": {},
   "source": [
    "# Loading the dataset from feature extraction"
   ]
  },
  {
   "cell_type": "code",
   "execution_count": 2,
   "id": "33f9b475-5870-4f82-a08e-601993aea1f5",
   "metadata": {},
   "outputs": [],
   "source": [
    "features_dataset = \"features.csv\""
   ]
  },
  {
   "cell_type": "code",
   "execution_count": 3,
   "id": "e55b9ab3-540d-4784-9b1f-e8429bd96b82",
   "metadata": {},
   "outputs": [
    {
     "data": {
      "text/html": [
       "<div>\n",
       "<style scoped>\n",
       "    .dataframe tbody tr th:only-of-type {\n",
       "        vertical-align: middle;\n",
       "    }\n",
       "\n",
       "    .dataframe tbody tr th {\n",
       "        vertical-align: top;\n",
       "    }\n",
       "\n",
       "    .dataframe thead th {\n",
       "        text-align: right;\n",
       "    }\n",
       "</style>\n",
       "<table border=\"1\" class=\"dataframe\">\n",
       "  <thead>\n",
       "    <tr style=\"text-align: right;\">\n",
       "      <th></th>\n",
       "      <th>Accent Label</th>\n",
       "      <th>Speaker Label</th>\n",
       "      <th>Gender (M/F)</th>\n",
       "      <th>Word</th>\n",
       "      <th>Vowel Phoneme</th>\n",
       "      <th>Class Number</th>\n",
       "      <th>Formant 1 (Hz)</th>\n",
       "      <th>Formant 2 (Hz)</th>\n",
       "      <th>Formant 3 (Hz)</th>\n",
       "    </tr>\n",
       "  </thead>\n",
       "  <tbody>\n",
       "    <tr>\n",
       "      <th>0</th>\n",
       "      <td>brm_001</td>\n",
       "      <td>ajh001</td>\n",
       "      <td>M</td>\n",
       "      <td>had</td>\n",
       "      <td>AE</td>\n",
       "      <td>1</td>\n",
       "      <td>808.037273</td>\n",
       "      <td>1466.260490</td>\n",
       "      <td>2531.229722</td>\n",
       "    </tr>\n",
       "    <tr>\n",
       "      <th>1</th>\n",
       "      <td>brm_001</td>\n",
       "      <td>ajh001</td>\n",
       "      <td>M</td>\n",
       "      <td>hood</td>\n",
       "      <td>UH</td>\n",
       "      <td>2</td>\n",
       "      <td>394.653365</td>\n",
       "      <td>1079.159276</td>\n",
       "      <td>2990.346629</td>\n",
       "    </tr>\n",
       "    <tr>\n",
       "      <th>2</th>\n",
       "      <td>brm_001</td>\n",
       "      <td>ajh001</td>\n",
       "      <td>M</td>\n",
       "      <td>hid</td>\n",
       "      <td>IH</td>\n",
       "      <td>3</td>\n",
       "      <td>347.427995</td>\n",
       "      <td>2370.195627</td>\n",
       "      <td>2964.605459</td>\n",
       "    </tr>\n",
       "    <tr>\n",
       "      <th>3</th>\n",
       "      <td>brm_001</td>\n",
       "      <td>ars001</td>\n",
       "      <td>M</td>\n",
       "      <td>had</td>\n",
       "      <td>AE</td>\n",
       "      <td>1</td>\n",
       "      <td>723.971229</td>\n",
       "      <td>1602.030134</td>\n",
       "      <td>2541.530978</td>\n",
       "    </tr>\n",
       "    <tr>\n",
       "      <th>4</th>\n",
       "      <td>brm_001</td>\n",
       "      <td>ars001</td>\n",
       "      <td>M</td>\n",
       "      <td>hood</td>\n",
       "      <td>UH</td>\n",
       "      <td>2</td>\n",
       "      <td>457.037333</td>\n",
       "      <td>866.364766</td>\n",
       "      <td>2366.222933</td>\n",
       "    </tr>\n",
       "    <tr>\n",
       "      <th>5</th>\n",
       "      <td>brm_001</td>\n",
       "      <td>ars001</td>\n",
       "      <td>M</td>\n",
       "      <td>hid</td>\n",
       "      <td>IH</td>\n",
       "      <td>3</td>\n",
       "      <td>436.568043</td>\n",
       "      <td>1902.591752</td>\n",
       "      <td>2632.313765</td>\n",
       "    </tr>\n",
       "    <tr>\n",
       "      <th>6</th>\n",
       "      <td>brm_001</td>\n",
       "      <td>ikp001</td>\n",
       "      <td>M</td>\n",
       "      <td>had</td>\n",
       "      <td>AE</td>\n",
       "      <td>1</td>\n",
       "      <td>796.669010</td>\n",
       "      <td>1589.599745</td>\n",
       "      <td>2668.503205</td>\n",
       "    </tr>\n",
       "    <tr>\n",
       "      <th>7</th>\n",
       "      <td>brm_001</td>\n",
       "      <td>ikp001</td>\n",
       "      <td>M</td>\n",
       "      <td>hood</td>\n",
       "      <td>UH</td>\n",
       "      <td>2</td>\n",
       "      <td>887.156121</td>\n",
       "      <td>2427.341030</td>\n",
       "      <td>3812.209973</td>\n",
       "    </tr>\n",
       "    <tr>\n",
       "      <th>8</th>\n",
       "      <td>brm_001</td>\n",
       "      <td>ikp001</td>\n",
       "      <td>M</td>\n",
       "      <td>hid</td>\n",
       "      <td>IH</td>\n",
       "      <td>3</td>\n",
       "      <td>293.462894</td>\n",
       "      <td>2332.984854</td>\n",
       "      <td>3073.964171</td>\n",
       "    </tr>\n",
       "    <tr>\n",
       "      <th>9</th>\n",
       "      <td>brm_001</td>\n",
       "      <td>jxs001</td>\n",
       "      <td>M</td>\n",
       "      <td>had</td>\n",
       "      <td>AE</td>\n",
       "      <td>1</td>\n",
       "      <td>897.253552</td>\n",
       "      <td>1421.573699</td>\n",
       "      <td>2409.385194</td>\n",
       "    </tr>\n",
       "    <tr>\n",
       "      <th>10</th>\n",
       "      <td>brm_001</td>\n",
       "      <td>jxs001</td>\n",
       "      <td>M</td>\n",
       "      <td>hood</td>\n",
       "      <td>UH</td>\n",
       "      <td>2</td>\n",
       "      <td>565.325040</td>\n",
       "      <td>1437.657325</td>\n",
       "      <td>2753.912619</td>\n",
       "    </tr>\n",
       "    <tr>\n",
       "      <th>11</th>\n",
       "      <td>brm_001</td>\n",
       "      <td>jxs001</td>\n",
       "      <td>M</td>\n",
       "      <td>hid</td>\n",
       "      <td>IH</td>\n",
       "      <td>3</td>\n",
       "      <td>418.171515</td>\n",
       "      <td>2061.939735</td>\n",
       "      <td>2685.865832</td>\n",
       "    </tr>\n",
       "    <tr>\n",
       "      <th>12</th>\n",
       "      <td>brm_001</td>\n",
       "      <td>mrs001</td>\n",
       "      <td>M</td>\n",
       "      <td>had</td>\n",
       "      <td>AE</td>\n",
       "      <td>1</td>\n",
       "      <td>753.872364</td>\n",
       "      <td>1347.301551</td>\n",
       "      <td>2427.418764</td>\n",
       "    </tr>\n",
       "    <tr>\n",
       "      <th>13</th>\n",
       "      <td>brm_001</td>\n",
       "      <td>mrs001</td>\n",
       "      <td>M</td>\n",
       "      <td>hood</td>\n",
       "      <td>UH</td>\n",
       "      <td>2</td>\n",
       "      <td>883.096157</td>\n",
       "      <td>2630.355996</td>\n",
       "      <td>3206.183082</td>\n",
       "    </tr>\n",
       "    <tr>\n",
       "      <th>14</th>\n",
       "      <td>brm_001</td>\n",
       "      <td>mrs001</td>\n",
       "      <td>M</td>\n",
       "      <td>hid</td>\n",
       "      <td>IH</td>\n",
       "      <td>3</td>\n",
       "      <td>388.141055</td>\n",
       "      <td>2144.209671</td>\n",
       "      <td>2687.752605</td>\n",
       "    </tr>\n",
       "  </tbody>\n",
       "</table>\n",
       "</div>"
      ],
      "text/plain": [
       "   Accent Label Speaker Label Gender (M/F)  Word Vowel Phoneme  Class Number  \\\n",
       "0       brm_001        ajh001            M   had            AE             1   \n",
       "1       brm_001        ajh001            M  hood            UH             2   \n",
       "2       brm_001        ajh001            M   hid            IH             3   \n",
       "3       brm_001        ars001            M   had            AE             1   \n",
       "4       brm_001        ars001            M  hood            UH             2   \n",
       "5       brm_001        ars001            M   hid            IH             3   \n",
       "6       brm_001        ikp001            M   had            AE             1   \n",
       "7       brm_001        ikp001            M  hood            UH             2   \n",
       "8       brm_001        ikp001            M   hid            IH             3   \n",
       "9       brm_001        jxs001            M   had            AE             1   \n",
       "10      brm_001        jxs001            M  hood            UH             2   \n",
       "11      brm_001        jxs001            M   hid            IH             3   \n",
       "12      brm_001        mrs001            M   had            AE             1   \n",
       "13      brm_001        mrs001            M  hood            UH             2   \n",
       "14      brm_001        mrs001            M   hid            IH             3   \n",
       "\n",
       "    Formant 1 (Hz)  Formant 2 (Hz)  Formant 3 (Hz)  \n",
       "0       808.037273     1466.260490     2531.229722  \n",
       "1       394.653365     1079.159276     2990.346629  \n",
       "2       347.427995     2370.195627     2964.605459  \n",
       "3       723.971229     1602.030134     2541.530978  \n",
       "4       457.037333      866.364766     2366.222933  \n",
       "5       436.568043     1902.591752     2632.313765  \n",
       "6       796.669010     1589.599745     2668.503205  \n",
       "7       887.156121     2427.341030     3812.209973  \n",
       "8       293.462894     2332.984854     3073.964171  \n",
       "9       897.253552     1421.573699     2409.385194  \n",
       "10      565.325040     1437.657325     2753.912619  \n",
       "11      418.171515     2061.939735     2685.865832  \n",
       "12      753.872364     1347.301551     2427.418764  \n",
       "13      883.096157     2630.355996     3206.183082  \n",
       "14      388.141055     2144.209671     2687.752605  "
      ]
     },
     "execution_count": 3,
     "metadata": {},
     "output_type": "execute_result"
    }
   ],
   "source": [
    "features_df = pd.read_csv(features_dataset)\n",
    "features_df.head(15)"
   ]
  },
  {
   "cell_type": "markdown",
   "id": "9c1efb04-5661-4cd7-871a-f89abe45cd8a",
   "metadata": {},
   "source": [
    "## Getting the columns for training and testing the kNN classifier"
   ]
  },
  {
   "cell_type": "code",
   "execution_count": 4,
   "id": "4aa65843-7096-4070-b3a2-fa6fc577ce5e",
   "metadata": {},
   "outputs": [],
   "source": [
    "X = features_df[['Formant 1 (Hz)', 'Formant 2 (Hz)', 'Formant 3 (Hz)']]\n",
    "y = features_df['Vowel Phoneme']"
   ]
  },
  {
   "cell_type": "code",
   "execution_count": 5,
   "id": "d3a45013-bbcf-4a30-8a05-30b5f6b1b8ba",
   "metadata": {},
   "outputs": [],
   "source": [
    "# Separate data by gender\n",
    "male_data = features_df[features_df['Gender (M/F)'] == 'M']\n",
    "female_data = features_df[features_df['Gender (M/F)'] == 'F']"
   ]
  },
  {
   "cell_type": "code",
   "execution_count": 6,
   "id": "37c98d43-3258-46dd-944e-3661b0739e8d",
   "metadata": {},
   "outputs": [],
   "source": [
    "# Define a function to split data\n",
    "def split_data(data, features, labels, test_size, random_state=0):\n",
    "    X_train, X_test, y_train, y_test = train_test_split(features, labels, test_size=test_size, random_state=random_state)\n",
    "    return X_train, X_test, y_train, y_test"
   ]
  },
  {
   "cell_type": "markdown",
   "id": "3cdb9a8f-8820-4e9f-b034-b3d02265ce2a",
   "metadata": {},
   "source": [
    "### The ratio for splitting data is set to [3:1], meaning that 75% of the data is used for training while the other 25% is used for testing"
   ]
  },
  {
   "cell_type": "code",
   "execution_count": 7,
   "id": "984b1987-d99d-43ab-b5a6-117bbeee8923",
   "metadata": {},
   "outputs": [],
   "source": [
    "# Split male data\n",
    "X_train_male, X_test_male, y_train_male, y_test_male = split_data(male_data, X, y, 0.25)\n",
    "\n",
    "# Split female data\n",
    "X_train_female, X_test_female, y_train_female, y_test_female = split_data(female_data, X, y, 0.25)\n",
    "\n",
    "# Combine the splits\n",
    "X_train = pd.concat([X_train_male, X_train_female])\n",
    "X_test = pd.concat([X_test_male, X_test_female])\n",
    "y_train = pd.concat([y_train_male, y_train_female])\n",
    "y_test = pd.concat([y_test_male, y_test_female])"
   ]
  },
  {
   "cell_type": "code",
   "execution_count": 8,
   "id": "7b2ae720-d244-468f-bbc8-bb6ee3265888",
   "metadata": {},
   "outputs": [],
   "source": [
    "# Initialize k-NN classifier\n",
    "k = 3  # You can choose a different value for k\n",
    "knn_classifier = KNeighborsClassifier(n_neighbors=k, metric=\"euclidean\")\n",
    "\n",
    "# Train the classifier\n",
    "knn_classifier.fit(X_train, y_train)\n",
    "\n",
    "# Make predictions on the test set\n",
    "y_pred = knn_classifier.predict(X_test)"
   ]
  },
  {
   "cell_type": "code",
   "execution_count": 9,
   "id": "324087a5-911c-49d6-8f1d-cc33f15675a6",
   "metadata": {},
   "outputs": [
    {
     "name": "stdout",
     "output_type": "stream",
     "text": [
      "Confusion Matrix:\n",
      "[[30  0  2]\n",
      " [ 0 22  0]\n",
      " [ 2  0 20]]\n"
     ]
    }
   ],
   "source": [
    "# Extract the unique phoneme labels\n",
    "phoneme_labels = features_df['Vowel Phoneme'].unique()\n",
    "\n",
    "cm = confusion_matrix(y_test, y_pred)\n",
    "cm_display = ConfusionMatrixDisplay(confusion_matrix = cm, display_labels = phoneme_labels)\n",
    "print(\"Confusion Matrix:\")\n",
    "print(cm)"
   ]
  },
  {
   "cell_type": "code",
   "execution_count": 10,
   "id": "c93fe391-9b85-4bc9-9636-fd672efbee29",
   "metadata": {},
   "outputs": [
    {
     "data": {
      "image/png": "[encoded data removed]",
      "text/plain": [
       "<Figure size 640x480 with 2 Axes>"
      ]
     },
     "metadata": {},
     "output_type": "display_data"
    }
   ],
   "source": [
    "cm_display.plot()\n",
    "plt.show()"
   ]
  },
  {
   "cell_type": "code",
   "execution_count": 11,
   "id": "7a8305ec-0248-4c1a-b20e-90903a39113d",
   "metadata": {},
   "outputs": [
    {
     "name": "stdout",
     "output_type": "stream",
     "text": [
      "F1 Score: 0.9473684210526315\n"
     ]
    }
   ],
   "source": [
    "f1 = f1_score(y_test, y_pred, average='weighted')\n",
    "print(\"F1 Score:\", f1)"
   ]
  },
  {
   "cell_type": "markdown",
   "id": "2b568530-a812-4002-a42a-fc3bc3cf6dd6",
   "metadata": {},
   "source": [
    "## Testing performance with different values of k."
   ]
  },
  {
   "cell_type": "code",
   "execution_count": 12,
   "id": "3c56f0cd-bce7-4020-b1a3-4cfd86c95c14",
   "metadata": {},
   "outputs": [
    {
     "data": {
      "text/html": [
       "<div>\n",
       "<style scoped>\n",
       "    .dataframe tbody tr th:only-of-type {\n",
       "        vertical-align: middle;\n",
       "    }\n",
       "\n",
       "    .dataframe tbody tr th {\n",
       "        vertical-align: top;\n",
       "    }\n",
       "\n",
       "    .dataframe thead th {\n",
       "        text-align: right;\n",
       "    }\n",
       "</style>\n",
       "<table border=\"1\" class=\"dataframe\">\n",
       "  <thead>\n",
       "    <tr style=\"text-align: right;\">\n",
       "      <th></th>\n",
       "      <th>K</th>\n",
       "      <th>F1-Score</th>\n",
       "    </tr>\n",
       "  </thead>\n",
       "  <tbody>\n",
       "    <tr>\n",
       "      <th>0</th>\n",
       "      <td>1</td>\n",
       "      <td>0.947368</td>\n",
       "    </tr>\n",
       "    <tr>\n",
       "      <th>1</th>\n",
       "      <td>3</td>\n",
       "      <td>0.947368</td>\n",
       "    </tr>\n",
       "    <tr>\n",
       "      <th>2</th>\n",
       "      <td>5</td>\n",
       "      <td>1.000000</td>\n",
       "    </tr>\n",
       "    <tr>\n",
       "      <th>3</th>\n",
       "      <td>7</td>\n",
       "      <td>1.000000</td>\n",
       "    </tr>\n",
       "    <tr>\n",
       "      <th>4</th>\n",
       "      <td>9</td>\n",
       "      <td>1.000000</td>\n",
       "    </tr>\n",
       "    <tr>\n",
       "      <th>5</th>\n",
       "      <td>11</td>\n",
       "      <td>1.000000</td>\n",
       "    </tr>\n",
       "    <tr>\n",
       "      <th>6</th>\n",
       "      <td>13</td>\n",
       "      <td>0.945708</td>\n",
       "    </tr>\n",
       "    <tr>\n",
       "      <th>7</th>\n",
       "      <td>15</td>\n",
       "      <td>0.945708</td>\n",
       "    </tr>\n",
       "    <tr>\n",
       "      <th>8</th>\n",
       "      <td>17</td>\n",
       "      <td>0.973630</td>\n",
       "    </tr>\n",
       "    <tr>\n",
       "      <th>9</th>\n",
       "      <td>19</td>\n",
       "      <td>0.973630</td>\n",
       "    </tr>\n",
       "    <tr>\n",
       "      <th>10</th>\n",
       "      <td>21</td>\n",
       "      <td>0.945708</td>\n",
       "    </tr>\n",
       "  </tbody>\n",
       "</table>\n",
       "</div>"
      ],
      "text/plain": [
       "     K  F1-Score\n",
       "0    1  0.947368\n",
       "1    3  0.947368\n",
       "2    5  1.000000\n",
       "3    7  1.000000\n",
       "4    9  1.000000\n",
       "5   11  1.000000\n",
       "6   13  0.945708\n",
       "7   15  0.945708\n",
       "8   17  0.973630\n",
       "9   19  0.973630\n",
       "10  21  0.945708"
      ]
     },
     "metadata": {},
     "output_type": "display_data"
    }
   ],
   "source": [
    "ks = [1, 3, 5, 7, 9, 11, 13, 15, 17, 19, 21]\n",
    "f1_scores = {}\n",
    "\n",
    "for k in ks:\n",
    "    knn = KNeighborsClassifier(n_neighbors=k, metric=\"euclidean\")\n",
    "    knn.fit(X_train, y_train)\n",
    "    y_pred = knn.predict(X_test)\n",
    "    f1 = f1_score(y_test, y_pred, average='weighted')\n",
    "    f1_scores[k] = f1\n",
    "\n",
    "#print(\"F1 Scores for different k values:\", f1_scores)\n",
    "\n",
    "# Convert dictionary to DataFrame\n",
    "f1_df = pd.DataFrame.from_dict(f1_scores, orient='index', columns=['F1-Score'])\n",
    "\n",
    "# Reset index to turn the index into a column\n",
    "f1_df.reset_index(inplace=True)\n",
    "\n",
    "# Rename the columns\n",
    "f1_df.columns = ['K', 'F1-Score']\n",
    "\n",
    "# Display the DataFrame\n",
    "display(f1_df)"
   ]
  },
  {
   "cell_type": "markdown",
   "id": "143cff53-b143-447b-998e-0c9e312bbbdd",
   "metadata": {},
   "source": [
    "## Testing different distance metrics"
   ]
  },
  {
   "cell_type": "code",
   "execution_count": 13,
   "id": "865fec04-1906-4db1-8eb4-92fe6954bc1b",
   "metadata": {},
   "outputs": [
    {
     "data": {
      "text/html": [
       "<div>\n",
       "<style scoped>\n",
       "    .dataframe tbody tr th:only-of-type {\n",
       "        vertical-align: middle;\n",
       "    }\n",
       "\n",
       "    .dataframe tbody tr th {\n",
       "        vertical-align: top;\n",
       "    }\n",
       "\n",
       "    .dataframe thead th {\n",
       "        text-align: right;\n",
       "    }\n",
       "</style>\n",
       "<table border=\"1\" class=\"dataframe\">\n",
       "  <thead>\n",
       "    <tr style=\"text-align: right;\">\n",
       "      <th></th>\n",
       "      <th>Distance Metric</th>\n",
       "      <th>F1-Score</th>\n",
       "    </tr>\n",
       "  </thead>\n",
       "  <tbody>\n",
       "    <tr>\n",
       "      <th>0</th>\n",
       "      <td>euclidean</td>\n",
       "      <td>1.000000</td>\n",
       "    </tr>\n",
       "    <tr>\n",
       "      <th>1</th>\n",
       "      <td>manhattan</td>\n",
       "      <td>0.973630</td>\n",
       "    </tr>\n",
       "    <tr>\n",
       "      <th>2</th>\n",
       "      <td>cosine</td>\n",
       "      <td>0.891888</td>\n",
       "    </tr>\n",
       "  </tbody>\n",
       "</table>\n",
       "</div>"
      ],
      "text/plain": [
       "  Distance Metric  F1-Score\n",
       "0       euclidean  1.000000\n",
       "1       manhattan  0.973630\n",
       "2          cosine  0.891888"
      ]
     },
     "metadata": {},
     "output_type": "display_data"
    }
   ],
   "source": [
    "metrics = ['euclidean', 'manhattan', 'cosine']\n",
    "metric_scores = {}\n",
    "\n",
    "for metric in metrics:\n",
    "    knn = KNeighborsClassifier(n_neighbors=9, metric=metric)\n",
    "    knn.fit(X_train, y_train)\n",
    "    y_pred = knn.predict(X_test)\n",
    "    f1 = f1_score(y_test, y_pred, average='weighted')\n",
    "    metric_scores[metric] = f1\n",
    "\n",
    "#print(\"F1 Scores for different metrics:\", metric_scores)\n",
    "\n",
    "# Convert dictionary to DataFrame\n",
    "met_df = pd.DataFrame.from_dict(metric_scores, orient='index', columns=['F1-Score'])\n",
    "\n",
    "# Reset index to turn the index into a column\n",
    "met_df.reset_index(inplace=True)\n",
    "\n",
    "# Rename the columns\n",
    "met_df.columns = ['Distance Metric', 'F1-Score']\n",
    "\n",
    "# Display the DataFrame\n",
    "display(met_df)"
   ]
  },
  {
   "cell_type": "markdown",
   "id": "56755a58-d3df-4e39-a816-f2c063ef52f6",
   "metadata": {},
   "source": [
    "## Evaluating performance of data of single gender, instead of both genders combined.\n",
    "## The same parameters (k=5 + Euclidean distance metric) are used in this case for consistency."
   ]
  },
  {
   "cell_type": "code",
   "execution_count": 14,
   "id": "943e0719-e85d-4612-878f-8cba03736ce0",
   "metadata": {},
   "outputs": [
    {
     "name": "stdout",
     "output_type": "stream",
     "text": [
      "Male F1 Score: 1.0\n"
     ]
    }
   ],
   "source": [
    "knn = KNeighborsClassifier(n_neighbors=5, metric='euclidean')\n",
    "knn.fit(X_train_male, y_train_male)\n",
    "y_pred_male = knn.predict(X_test_male)\n",
    "f1_male = f1_score(y_test_male, y_pred_male, average='weighted')\n",
    "\n",
    "print(\"Male F1 Score:\", f1_male)"
   ]
  },
  {
   "cell_type": "code",
   "execution_count": 15,
   "id": "1e0fe71a-dc7a-4297-9c46-199774272ce9",
   "metadata": {},
   "outputs": [
    {
     "name": "stdout",
     "output_type": "stream",
     "text": [
      "Female F1 Score: 1.0\n"
     ]
    }
   ],
   "source": [
    "knn = KNeighborsClassifier(n_neighbors=5, metric='euclidean')\n",
    "knn.fit(X_train_female, y_train_female)\n",
    "y_pred_female = knn.predict(X_test_female)\n",
    "f1_female = f1_score(y_test_female, y_pred_female, average='weighted')\n",
    "\n",
    "print(\"Female F1 Score:\", f1_female)"
   ]
  },
  {
   "cell_type": "markdown",
   "id": "0fc8fe71-4a8e-4aff-b119-c0c335f477ff",
   "metadata": {},
   "source": [
    "## Checking the vowel-based phoneme pairs that produce the most confusion."
   ]
  },
  {
   "cell_type": "code",
   "execution_count": 16,
   "id": "3fa2494f-584d-4e26-845b-1a723ac98675",
   "metadata": {},
   "outputs": [
    {
     "name": "stdout",
     "output_type": "stream",
     "text": [
      "The most confusing phonemes are ('AE', 'IH') with 2 instances of confusion.\n"
     ]
    }
   ],
   "source": [
    "# Extract the unique phoneme labels\n",
    "phoneme_labels = features_df['Vowel Phoneme'].unique()\n",
    "\n",
    "# Put the confusion matrix in a DataFrame for easier analysis\n",
    "conf_matrix_df = pd.DataFrame(cm, index=phoneme_labels, columns=phoneme_labels)\n",
    "\n",
    "# Remove diagonal elements (correct predictions) by setting them to 0\n",
    "np.fill_diagonal(conf_matrix_df.values, 0)\n",
    "\n",
    "# Find the most confusing pairs\n",
    "most_confused_pairs = conf_matrix_df.stack().idxmax()\n",
    "most_confused_value = conf_matrix_df.stack().max()\n",
    "\n",
    "# Printing out confusing pairs and value\n",
    "if most_confused_value == 0:\n",
    "    print(\"There are no confused pairs!\")\n",
    "else:\n",
    "    print(f\"The most confusing phonemes are {most_confused_pairs} with {most_confused_value} instances of confusion.\")"
   ]
  },
  {
   "cell_type": "code",
   "execution_count": null,
   "id": "df2deee8-eb89-4e1a-8bb0-53356764d7db",
   "metadata": {},
   "outputs": [],
   "source": []
  }
 ],
 "metadata": {
  "authors": [
   {
    "name": "Matthias Vassallo Pulis"
   }
  ],
  "kernelspec": {
   "display_name": "Python 3 (ipykernel)",
   "language": "python",
   "name": "python3"
  },
  "language_info": {
   "codemirror_mode": {
    "name": "ipython",
    "version": 3
   },
   "file_extension": ".py",
   "mimetype": "text/x-python",
   "name": "python",
   "nbconvert_exporter": "python",
   "pygments_lexer": "ipython3",
   "version": "3.11.7"
  },
  "title": "ICS2203/ARI2203 - Vowel Analysis & Classification Assignment"
 },
 "nbformat": 4,
 "nbformat_minor": 5
}
